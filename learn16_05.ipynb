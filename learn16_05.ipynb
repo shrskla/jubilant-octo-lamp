{
  "nbformat": 4,
  "nbformat_minor": 0,
  "metadata": {
    "colab": {
      "provenance": [],
      "authorship_tag": "ABX9TyPcn+QhpOs7IjqUmGLpUt8Z",
      "include_colab_link": true
    },
    "kernelspec": {
      "name": "python3",
      "display_name": "Python 3"
    },
    "language_info": {
      "name": "python"
    }
  },
  "cells": [
    {
      "cell_type": "markdown",
      "metadata": {
        "id": "view-in-github",
        "colab_type": "text"
      },
      "source": [
        "<a href=\"https://colab.research.google.com/github/shrskla/jubilant-octo-lamp/blob/main/learn16_05.ipynb\" target=\"_parent\"><img src=\"https://colab.research.google.com/assets/colab-badge.svg\" alt=\"Open In Colab\"/></a>"
      ]
    },
    {
      "cell_type": "code",
      "execution_count": null,
      "metadata": {
        "colab": {
          "base_uri": "https://localhost:8080/"
        },
        "id": "v7IguicR-R_d",
        "outputId": "04438d83-4d6f-4db0-d301-88fbdd247660"
      },
      "outputs": [
        {
          "output_type": "stream",
          "name": "stdout",
          "text": [
            "hello\n"
          ]
        }
      ],
      "source": [
        "print (\"hello\")"
      ]
    },
    {
      "cell_type": "code",
      "source": [
        "x = 4       # x is of type integer\n",
        "y = \"Sally\" # x is now of type string\n",
        "z = 3.0     # x is now of type float\n",
        "a = True    # x is now of type Boolean\n",
        "print(x)\n",
        "print(type(x))\n",
        "print(type(y))"
      ],
      "metadata": {
        "id": "5lR57Hqxqzgn"
      },
      "execution_count": null,
      "outputs": []
    },
    {
      "cell_type": "markdown",
      "source": [
        "Text Type:\tstr (\"hello\")\n",
        "\n",
        "Numeric Types:\tint (1), float (1.2), complex (1j)\n",
        "\n",
        "Sequence Types:\tlist [\"apple\", \"banana\", \"cherry\"], tuple (\"apple\", \"banana\", \"cherry\", \"apple\", \"cherry\"), range\n",
        "    A tuple is a collection which is ordered and unchangeable.\n",
        "\n",
        "Mapping Type:\tdict\n",
        "    thisdict = {\n",
        "  \"brand\": \"Ford\",\n",
        "  \"model\": \"Mustang\",\n",
        "  \"year\": 1964\n",
        "    }\n",
        "\n",
        "Set Types:\tset {\"apple\", \"banana\", \"cherry\"}, frozenset\n",
        "    A set is a collection which is unordered, unchangeable*, and unindexed.\n",
        "\n",
        "Boolean Type:\tbool (True, False)\n",
        "\n",
        "Binary Types:\tbytes, bytearray, memoryview\n",
        "\n",
        "None Type:\tNoneType"
      ],
      "metadata": {
        "id": "LXAcnmUCroxZ"
      }
    }
  ]
}